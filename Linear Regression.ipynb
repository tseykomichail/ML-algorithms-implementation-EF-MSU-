{
 "cells": [
  {
   "cell_type": "code",
   "execution_count": 29,
   "id": "54dac98e",
   "metadata": {},
   "outputs": [],
   "source": [
    "import numpy as np\n",
    "\n",
    "\n",
    "class LinearRegression:\n",
    "  def __init__(self,**kwargs):\n",
    "    self.coef_ = None\n",
    "\n",
    "  def fit(self, x: np.array, y: np.array):\n",
    "    x=x[np.newaxis, :].T\n",
    "    y=y[np.newaxis, :].T\n",
    "    b=np.ones(len(x))\n",
    "    b=b[np.newaxis, :].T\n",
    "    X=np.concatenate((x, b), axis=1)\n",
    "    matr=np.matmul(X.T, X)\n",
    "    matr=np.linalg.inv(matr)\n",
    "    matr=np.matmul(matr, X.T)\n",
    "    self.coef_=np.matmul(matr,y)\n",
    "\n",
    "  def predict(self, x: np.array):\n",
    "    x=x[np.newaxis, :].T\n",
    "    b=np.ones(len(x))\n",
    "    b=b[np.newaxis, :].T\n",
    "    X=np.concatenate((x, b), axis=1)\n",
    "    ans=[]\n",
    "    for x in X :\n",
    "      ans.append(np.matmul(x, self.coef_))\n",
    "    return np.array(ans)"
   ]
  },
  {
   "cell_type": "markdown",
   "id": "f84308b9",
   "metadata": {},
   "source": [
    "Создадим выборку, чтобы проверить работу алгоритма"
   ]
  },
  {
   "cell_type": "code",
   "execution_count": 21,
   "id": "af6f3b8d",
   "metadata": {},
   "outputs": [],
   "source": [
    "np.random.seed(42)\n",
    "sample_size = 100\n",
    "X = np.random.uniform(-10, 10, sample_size)\n",
    "mean = 0\n",
    "std_dev = 1\n",
    "eps = np.random.normal(mean, std_dev, sample_size)\n",
    "Y = 1/3*X+3 + eps\n",
    "#print(eps)"
   ]
  },
  {
   "cell_type": "code",
   "execution_count": 22,
   "id": "4673fe58",
   "metadata": {},
   "outputs": [
    {
     "data": {
      "image/png": "[encoded data removed]",
      "text/plain": [
       "<Figure size 432x288 with 1 Axes>"
      ]
     },
     "metadata": {
      "needs_background": "light"
     },
     "output_type": "display_data"
    }
   ],
   "source": [
    "import matplotlib.pyplot as plt\n",
    "plt.scatter(X, Y, s=5, c='b', label='Выборка')\n",
    "plt.xlabel('X')\n",
    "plt.ylabel('Y')\n",
    "plt.title('График выборки')\n",
    "plt.legend()\n",
    "plt.grid(True)\n",
    "plt.show()"
   ]
  },
  {
   "cell_type": "markdown",
   "id": "407f5a10",
   "metadata": {},
   "source": [
    "Проверим работу алгоритма"
   ]
  },
  {
   "cell_type": "code",
   "execution_count": 30,
   "id": "e57a1d77",
   "metadata": {},
   "outputs": [],
   "source": [
    "model=LinearRegression()\n",
    "model.fit(X, Y)"
   ]
  },
  {
   "cell_type": "code",
   "execution_count": 31,
   "id": "228b80e9",
   "metadata": {},
   "outputs": [
    {
     "data": {
      "image/png": "[encoded data removed]",
      "text/plain": [
       "<Figure size 432x288 with 1 Axes>"
      ]
     },
     "metadata": {
      "needs_background": "light"
     },
     "output_type": "display_data"
    }
   ],
   "source": [
    "X_plot = np.linspace(min(X), max(X), 1000)\n",
    "Y_plot = model.predict(X_plot)\n",
    "plt.scatter(X, Y, s=5, c='b', label='Выборка')\n",
    "plt.plot(X_plot, Y_plot, color='r', label='Модель')\n",
    "plt.title(f'Итоговая гиперплоскость')\n",
    "plt.xlabel('X')\n",
    "plt.ylabel('Y')\n",
    "plt.legend()\n",
    "plt.grid(True)\n",
    "plt.show()"
   ]
  },
  {
   "cell_type": "code",
   "execution_count": 33,
   "id": "47eda503",
   "metadata": {},
   "outputs": [
    {
     "name": "stdout",
     "output_type": "stream",
     "text": [
      "[[0.31034467]\n",
      " [2.98520954]]\n"
     ]
    }
   ],
   "source": [
    "print(model.coef_)"
   ]
  },
  {
   "cell_type": "markdown",
   "id": "86c22ab7",
   "metadata": {},
   "source": [
    "Оцененные коэффициенты приблизительно равны 1/3 и 3, что говорит о хорошей подгонке."
   ]
  },
  {
   "cell_type": "code",
   "execution_count": 32,
   "id": "51630283",
   "metadata": {},
   "outputs": [
    {
     "name": "stdout",
     "output_type": "stream",
     "text": [
      "[[1.43348618]\n",
      " [2.98520954]\n",
      " [3.60589889]\n",
      " [3.91624356]]\n"
     ]
    }
   ],
   "source": [
    "test=np.array([-5, 0, 2 , 3])\n",
    "print(model.predict(test))"
   ]
  }
 ],
 "metadata": {
  "kernelspec": {
   "display_name": "Python 3 (ipykernel)",
   "language": "python",
   "name": "python3"
  },
  "language_info": {
   "codemirror_mode": {
    "name": "ipython",
    "version": 3
   },
   "file_extension": ".py",
   "mimetype": "text/x-python",
   "name": "python",
   "nbconvert_exporter": "python",
   "pygments_lexer": "ipython3",
   "version": "3.9.12"
  }
 },
 "nbformat": 4,
 "nbformat_minor": 5
}
