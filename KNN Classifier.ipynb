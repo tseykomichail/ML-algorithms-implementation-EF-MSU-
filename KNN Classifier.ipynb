{
 "cells": [
  {
   "cell_type": "code",
   "execution_count": 15,
   "id": "54dac98e",
   "metadata": {},
   "outputs": [],
   "source": [
    "import numpy as np\n",
    "from numpy import linalg as LA\n",
    "class KNN_classifier:\n",
    "  def __init__(self, n_neighbors: int, **kwargs):\n",
    "    self.K = n_neighbors\n",
    "  def fit(self, x: np.array, y: np.array):\n",
    "    self.X=x\n",
    "    self.y=y\n",
    "  def predict(self, x: np.array):\n",
    "    predictions = []\n",
    "    distances=np.ndarray(shape=(len(self.X), 2))\n",
    "    for i in x:\n",
    "      for j in range(len(self.X)):\n",
    "        m=i-self.X[j]\n",
    "        distances[j][0]=LA.norm(m)\n",
    "        distances[j][1]=self.y[j]\n",
    "      for j in range(0, len(distances)-1) :\n",
    "        for k in range(0, len(distances)-1-j) :\n",
    "          if distances[k][0]>distances[k+1][0] :\n",
    "            t=distances[k][0]\n",
    "            distances[k][0]=distances[k+1][0]\n",
    "            distances[k+1][0]=t\n",
    "            t=distances[k][1]\n",
    "            distances[k][1]=distances[k+1][1]\n",
    "            distances[k+1][1]=t\n",
    "      classes=np.ndarray(len(distances), )\n",
    "      classes=distances[:self.K, 1]\n",
    "      values, counts = np.unique(classes, return_counts=True)\n",
    "      \n",
    "      predictions.append(values[np.argmax(counts)])\n",
    "    predictions = np.array(predictions)\n",
    "    return predictions"
   ]
  },
  {
   "cell_type": "markdown",
   "id": "f84308b9",
   "metadata": {},
   "source": [
    "Создадим выборку, чтобы проверить работу алгоритма"
   ]
  },
  {
   "cell_type": "code",
   "execution_count": 13,
   "id": "d917ccbb",
   "metadata": {},
   "outputs": [
    {
     "data": {
      "text/plain": [
       "Text(0, 0.5, 'x')"
      ]
     },
     "execution_count": 13,
     "metadata": {},
     "output_type": "execute_result"
    },
    {
     "data": {
      "image/png": "[encoded data removed]",
      "text/plain": [
       "<Figure size 576x432 with 1 Axes>"
      ]
     },
     "metadata": {
      "needs_background": "light"
     },
     "output_type": "display_data"
    }
   ],
   "source": [
    "from matplotlib import pyplot  as plt\n",
    "import pandas as pd\n",
    "import sklearn.datasets\n",
    "import numpy as np\n",
    "X, labels = sklearn.datasets.make_blobs(n_samples=300, n_features=2, centers=4)\n",
    "X=np.array(X)\n",
    "labels=np.array(labels)\n",
    "plt.figure(figsize=(8, 6))\n",
    "classes = set(labels)\n",
    "colors = ['b', 'g', 'r', 'c', 'm', 'y', 'k', '0.75', 'pink', 'orange']\n",
    "markers = ['o', 's', 'D', '^', 'v', '<', '>', 'p', 'h', 'x']\n",
    "for i, cls in enumerate(classes):\n",
    "    idx = labels == cls\n",
    "    plt.scatter(X[idx, 0], X[idx, 1], c=colors[i], marker=markers[i], label=f'Class {cls}')\n",
    "\n",
    "plt.legend(loc='best')\n",
    "plt.title('Исходные данные')\n",
    "plt.xlabel('y')\n",
    "plt.ylabel('x')"
   ]
  },
  {
   "cell_type": "markdown",
   "id": "407f5a10",
   "metadata": {},
   "source": [
    "Проверим работу алгоритма"
   ]
  },
  {
   "cell_type": "code",
   "execution_count": 16,
   "id": "194ffcf1",
   "metadata": {},
   "outputs": [
    {
     "name": "stdout",
     "output_type": "stream",
     "text": [
      "[3.]\n"
     ]
    }
   ],
   "source": [
    "model=KNN_classifier(n_neighbors=9)\n",
    "model.fit(X, labels)\n",
    "test=np.ndarray(shape=(1, 2), )\n",
    "test[0][0]=3\n",
    "test[0][1]=3\n",
    "print(model.predict(test))"
   ]
  }
 ],
 "metadata": {
  "kernelspec": {
   "display_name": "Python 3 (ipykernel)",
   "language": "python",
   "name": "python3"
  },
  "language_info": {
   "codemirror_mode": {
    "name": "ipython",
    "version": 3
   },
   "file_extension": ".py",
   "mimetype": "text/x-python",
   "name": "python",
   "nbconvert_exporter": "python",
   "pygments_lexer": "ipython3",
   "version": "3.9.12"
  }
 },
 "nbformat": 4,
 "nbformat_minor": 5
}
